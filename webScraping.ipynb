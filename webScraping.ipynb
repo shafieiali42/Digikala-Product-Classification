{
 "cells": [
  {
   "cell_type": "code",
   "execution_count": 1,
   "metadata": {},
   "outputs": [],
   "source": [
    "from selenium.webdriver.support.ui import WebDriverWait\n",
    "from selenium.webdriver.support import expected_conditions as EC\n",
    "from selenium import webdriver\n",
    "from selenium.webdriver.common.by import By\n",
    "from time import sleep\n",
    "from selenium.webdriver.common.keys import Keys\n",
    "from selenium.webdriver import ActionChains\n",
    "from unidecode import unidecode\n",
    "from bs4 import BeautifulSoup\n",
    "from os import system\n",
    "import time"
   ]
  },
  {
   "cell_type": "code",
   "execution_count": 2,
   "metadata": {},
   "outputs": [],
   "source": [
    "def save_links(url,output_links_file):\n",
    "    driver = webdriver.Firefox(executable_path=\"C:\\Program Files\\Mozilla Firefox\\firefox.exe\")\n",
    "    products=[]\n",
    "    driver.get(url)\n",
    "    # lenOfPage = driver.execute_script(\"window.scrollTo(0, document.body.scrollHeight);var lenOfPage=document.body.scrollHeight;return lenOfPage;\")\n",
    "    match=False\n",
    "    counter=0\n",
    "    while(match==False):\n",
    "        # lastCount = lenOfPage\n",
    "        time.sleep(10)\n",
    "        soup = BeautifulSoup(driver.page_source, 'html.parser')\n",
    "        time.sleep(10)\n",
    "        # print(soup)\n",
    "        # break\n",
    "        products_one_page = soup.find_all(\"h2\", {\"class\": \"jsx-420cefab3c28f825 product-name\"})\n",
    "        # print(\"***\")\n",
    "        # print(products_one_page[0])\n",
    "        # print(products_one_page[0].text)\n",
    "        # print(products_one_page[0].find())\n",
    "        # print(type(products_one_page[0]))\n",
    "        # break\n",
    "        # print(products_one_page)\n",
    "        # print(len(products_one_page))\n",
    "        products=[*products,*products_one_page]\n",
    "        lenOfPage = driver.execute_script(\"window.scrollTo(0, document.body.scrollHeight);var lenOfPage=document.body.scrollHeight;return lenOfPage;\")\n",
    "        # driver.execute_script(\"window.scrollTo(0, 1000);\")  # Scrolls down 1000 pixels\n",
    "        driver.execute_script(\"window.scrollTo(0, 0);\") \n",
    "        \n",
    "        # lenOfPage = driver.execute_script(\"window.scrollTo(0, document.body.scrollHeight);var lenOfPage=document.body.scrollHeight;return lenOfPage;\")\n",
    "      \n",
    "        counter+=1\n",
    "        if counter>=50:\n",
    "            match=True\n",
    "    # links=[]\n",
    "    products=set(products)\n",
    "    # print(products)\n",
    "    products_names=[]\n",
    "\n",
    "    for i in products:\n",
    "        products_names.append(i.text)\n",
    "    \n",
    "    \n",
    "    f = open(f\"{output_links_file}.txt\", \"a\", encoding=\"utf-8\")\n",
    "    for product in products_names:\n",
    "        print(product)\n",
    "        print(type(product))\n",
    "        f.write(product+\"\\n\")\n",
    "    f.close()\n",
    " \n",
    "\n",
    "    return products_names"
   ]
  },
  {
   "cell_type": "code",
   "execution_count": 3,
   "metadata": {},
   "outputs": [],
   "source": [
    "# url=\"https://torob.com/browse/176/%D9%85%D8%AF-%D9%88-%D9%BE%D9%88%D8%B4%D8%A7%DA%A9/\"\n",
    "# save_links(url,\"clothes\")"
   ]
  },
  {
   "cell_type": "code",
   "execution_count": 4,
   "metadata": {},
   "outputs": [],
   "source": [
    "# url=\"https://torob.com/browse/179/%D9%87%D8%A7%DB%8C%D9%BE%D8%B1-%D9%85%D8%A7%D8%B1%DA%A9%D8%AA/\"\n",
    "# save_links(url,\"supermarket\")"
   ]
  },
  {
   "cell_type": "code",
   "execution_count": 5,
   "metadata": {},
   "outputs": [],
   "source": [
    "# url=\"https://torob.com/browse/175/%D9%85%D9%88%D8%A8%D8%A7%DB%8C%D9%84-%D9%88-%DA%A9%D8%A7%D9%84%D8%A7%DB%8C-%D8%AF%DB%8C%D8%AC%DB%8C%D8%AA%D8%A7%D9%84/\"\n",
    "# save_links(url,\"Digital\")"
   ]
  },
  {
   "cell_type": "code",
   "execution_count": null,
   "metadata": {},
   "outputs": [],
   "source": [
    "url=\"https://torob.com/browse/169/%D9%84%D9%88%D8%A7%D8%B2%D9%85-%D8%AE%D8%A7%D9%86%DA%AF%DB%8C/\"\n",
    "save_links(url,\"furniture\")"
   ]
  },
  {
   "cell_type": "code",
   "execution_count": null,
   "metadata": {},
   "outputs": [],
   "source": [
    "url=\"https://torob.com/browse/171/%D8%B2%DB%8C%D8%A8%D8%A7%DB%8C%DB%8C-%D9%88-%D8%A8%D9%87%D8%AF%D8%A7%D8%B4%D8%AA/\"\n",
    "save_links(url,\"beauty\")"
   ]
  }
 ],
 "metadata": {
  "kernelspec": {
   "display_name": "Python 3",
   "language": "python",
   "name": "python3"
  },
  "language_info": {
   "codemirror_mode": {
    "name": "ipython",
    "version": 3
   },
   "file_extension": ".py",
   "mimetype": "text/x-python",
   "name": "python",
   "nbconvert_exporter": "python",
   "pygments_lexer": "ipython3",
   "version": "3.9.7"
  }
 },
 "nbformat": 4,
 "nbformat_minor": 2
}
